{
 "cells": [
  {
   "cell_type": "markdown",
   "metadata": {},
   "source": [
    "# Stock Market Analysis and Forecasting\n",
    "\n",
    "This notebook demonstrates how to use the stock forecasting pipeline for analyzing and predicting stock prices."
   ]
  },
  {
   "cell_type": "code",
   "execution_count": null,
   "metadata": {},
   "outputs": [],
   "source": [
    "# Import necessary libraries\n",
    "import os\n",
    "import sys\n",
    "import pandas as pd\n",
    "import numpy as np\n",
    "import matplotlib.pyplot as plt\n",
    "import seaborn as sns\n",
    "\n",
    "# Add project root to path for imports\n",
    "sys.path.append('..')\n",
    "\n",
    "# Import project modules\n",
    "from src.data.data_loader import StockDataLoader\n",
    "from src.data.feature_engineering import FeatureEngineer\n",
    "from src.models.model_training import ModelTrainer\n",
    "from src.models.prediction import StockPredictor\n",
    "from src.visualization.visualize import StockVisualizer\n",
    "from src.pipeline.pipeline import StockForecastingPipeline\n",
    "\n",
    "# Set plotting style\n",
    "plt.style.use('seaborn-v0_8-darkgrid')\n",
    "sns.set_context(\"talk\")\n",
    "\n",
    "# Ensure all plots are displayed in the notebook\n",
    "%matplotlib inline"
   ]
  },
  {
   "cell_type": "markdown",
   "metadata": {},
   "source": [
    "## 1. Load and Explore Stock Data\n",
    "\n",
    "First, let's load historical stock data for a few companies and explore it."
   ]
  },
  {
   "cell_type": "code",
   "execution_count": null,
   "metadata": {},
   "outputs": [],
   "source": [
    "# Initialize the data loader\n",
    "data_loader = StockDataLoader(output_dir='../data/raw')\n",
    "\n",
    "# Define the tickers and date range\n",
    "tickers = ['AAPL', 'MSFT', 'GOOGL']\n",
    "start_date = '2022-01-01'\n",
    "end_date = '2023-12-31'\n",
    "\n",
    "# Download data\n",
    "stock_data = data_loader.download_multiple_stocks(tickers, start_date, end_date)\n",
    "\n",
    "# Show the first few rows of Apple stock data\n",
    "stock_data['AAPL'].head()"
   ]
  },
  {
   "cell_type": "code",
   "execution_count": null,
   "metadata": {},
   "outputs": [],
   "source": [
    "# Let's visualize the stock price history\n",
    "visualizer = StockVisualizer(output_dir='../visualization')\n",
    "\n",
    "# Plot Apple's stock price history\n",
    "fig, axes = visualizer.plot_stock_price(stock_data['AAPL'], 'AAPL', save=False)\n",
    "plt.show()"
   ]
  },
  {
   "cell_type": "markdown",
   "metadata": {},
   "source": [
    "## 2. Feature Engineering\n",
    "\n",
    "Now, let's engineer features that will be useful for predicting stock prices."
   ]
  },
  {
   "cell_type": "code",
   "execution_count": null,
   "metadata": {},
   "outputs": [],
   "source": [
    "# Initialize feature engineer\n",
    "feature_engineer = FeatureEngineer(input_dir='../data/raw', output_dir='../data/features')\n",
    "\n",
    "# Let's add features to Apple stock data\n",
    "apple_data = stock_data['AAPL'].copy()\n",
    "\n",
    "# Add time-based features\n",
    "apple_features = feature_engineer.add_time_features(apple_data)\n",
    "\n",
    "# Add technical indicators\n",
    "apple_features = feature_engineer.add_technical_indicators(apple_features)\n",
    "\n",
    "# Add target variables (5-day future price)\n",
    "apple_features = feature_engineer.add_target_variables(apple_features, forecast_horizon=5)\n",
    "\n",
    "# Show the engineered features\n",
    "apple_features.head()"
   ]
  },
  {
   "cell_type": "code",
   "execution_count": null,
   "metadata": {},
   "outputs": [],
   "source": [
    "# Visualize some technical indicators\n",
    "indicators = ['SMA_20', 'SMA_50', 'BB_upper', 'BB_lower']\n",
    "fig, ax = visualizer.plot_technical_indicators(apple_features, 'AAPL', indicators=indicators, save=False)\n",
    "plt.show()"
   ]
  },
  {
   "cell_type": "markdown",
   "metadata": {},
   "source": [
    "## 3. Model Training\n",
    "\n",
    "Let's train a model to predict future stock prices."
   ]
  },
  {
   "cell_type": "code",
   "execution_count": null,
   "metadata": {},
   "outputs": [],
   "source": [
    "# Initialize model trainer\n",
    "model_trainer = ModelTrainer(data_dir='../data/features', models_dir='../models')\n",
    "\n",
    "# Define target column (5-day future price)\n",
    "target_col = 'future_price_5d'\n",
    "\n",
    "# Prepare data for training\n",
    "X_train, X_test, y_train, y_test, scaler, feature_cols = model_trainer.prepare_data(\n",
    "    apple_features, target_col, test_size=0.2, time_series_split=True\n",
    ")\n",
    "\n",
    "# Train a random forest model\n",
    "model = model_trainer.train_model(X_train, y_train, model_type='random_forest', n_estimators=100)\n",
    "\n",
    "# Evaluate the model\n",
    "metrics = model_trainer.evaluate_model(model, X_test, y_test)\n",
    "\n",
    "print(f\"Model evaluation metrics:\n{metrics}\")"
   ]
  },
  {
   "cell_type": "markdown",
   "metadata": {},
   "source": [
    "## 4. Making Predictions\n",
    "\n",
    "Now that we have a trained model, let's use it to make predictions."
   ]
  },
  {
   "cell_type": "code",
   "execution_count": null,
   "metadata": {},
   "outputs": [],
   "source": [
    "# Create a model package for the StockPredictor\n",
    "model_package = {\n",
    "    'model': model,\n",
    "    'scaler': scaler,\n",
    "    'feature_cols': feature_cols,\n",
    "    'ticker': 'AAPL',\n",
    "    'target_col': target_col,\n",
    "    'model_type': 'random_forest'\n",
    "}\n",
    "\n",
    "# Initialize predictor\n",
    "predictor = StockPredictor(models_dir='../models', output_dir='../data/predictions')\n",
    "\n",
    "# Make predictions\n",
    "predictions = predictor.predict(model_package, apple_features)\n",
    "\n",
    "# Add predictions to DataFrame for visualization\n",
    "result_df = pd.DataFrame(index=apple_features.index)\n",
    "result_df['actual_price'] = apple_features['Close']\n",
    "result_df['predicted_price'] = predictions\n",
    "\n",
    "# Visualize predictions\n",
    "fig, ax = visualizer.plot_predictions(result_df, 'AAPL', days_ahead=5, save=False)\n",
    "plt.show()"
   ]
  },
  {
   "cell_type": "markdown",
   "metadata": {},
   "source": [
    "## 5. Feature Importance\n",
    "\n",
    "Let's examine which features are most important for our model."
   ]
  },
  {
   "cell_type": "code",
   "execution_count": null,
   "metadata": {},
   "outputs": [],
   "source": [
    "# Plot feature importance\n",
    "fig, ax = visualizer.plot_feature_importance(model_package, top_n=15, save=False)\n",
    "plt.show()"
   ]
  },
  {
   "cell_type": "markdown",
   "metadata": {},
   "source": [
    "## 6. Running the Complete Pipeline\n",
    "\n",
    "Now, let's use the complete pipeline to process multiple stocks."
   ]
  },
  {
   "cell_type": "code",
   "execution_count": null,
   "metadata": {},
   "outputs": [],
   "source": [
    "# Initialize the pipeline\n",
    "pipeline = StockForecastingPipeline(\n",
    "    tickers=['AAPL', 'MSFT', 'GOOGL'],\n",
    "    start_date='2022-01-01',\n",
    "    end_date='2023-12-31',\n",
    "    forecast_horizon=5,\n",
    "    model_type='random_forest'\n",
    ")\n",
    "\n",
    "# Run the pipeline (uncomment to execute - this will take some time)\n",
    "# results = pipeline.run_pipeline()\n",
    "\n",
    "# After running the pipeline, you can generate a performance report\n",
    "# report = pipeline.generate_report(results['predictions'])\n",
    "# print(f\"Performance Report:\n{report}\")"
   ]
  }
 ],
 "metadata": {
  "kernelspec": {
   "display_name": "Python 3",
   "language": "python",
   "name": "python3"
  },
  "language_info": {
   "codemirror_mode": {
    "name": "ipython",
    "version": 3
   },
   "file_extension": ".py",
   "mimetype": "text/x-python",
   "name": "python",
   "nbconvert_exporter": "python",
   "pygments_lexer": "ipython3",
   "version": "3.8.10"
  }
 },
 "nbformat": 4,
 "nbformat_minor": 4
}